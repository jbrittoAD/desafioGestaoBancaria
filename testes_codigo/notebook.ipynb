{
 "cells": [
  {
   "cell_type": "code",
   "execution_count": 58,
   "id": "f2f8f586-3999-4a2b-8baa-64a0815f5c1b",
   "metadata": {},
   "outputs": [],
   "source": [
    "import requests\n",
    "\n",
    "# URL base da sua aplicação Flask\n",
    "base_url = 'http://localhost:5000'\n",
    "\n",
    "# Função para validar se uma conta existe\n",
    "def validar_conta(conta_id):\n",
    "    response = requests.get(f'{base_url}/validar_conta?conta_id={conta_id}')\n",
    "    if response.status_code == 200:\n",
    "        print(\"A conta existe.\")\n",
    "    else:\n",
    "        print(\"A conta não existe.\")\n",
    "\n",
    "# Função para criar uma nova conta com saldo inicial de R$ 500\n",
    "def criar_conta(conta_id):\n",
    "    response = requests.post(f'{base_url}/conta', json={'conta_id': conta_id, 'valor':500.0})\n",
    "    print(response.json())\n",
    "\n",
    "# Função para consultar o saldo de uma conta\n",
    "def consultar_saldo(conta_id):\n",
    "    response = requests.get(f'{base_url}/conta?conta_id={conta_id}')\n",
    "    print(response.json())\n",
    "\n",
    "# Função para efetuar uma compra no valor especificado usando débito\n",
    "def comprar_debito(conta_id, valor):\n",
    "    response = requests.post(f'{base_url}/transacao', json={'conta_id': conta_id, 'valor': valor, 'forma_pagamento':'D'})\n",
    "    print(response.json())\n",
    "\n",
    "# Função para efetuar uma compra no valor especificado usando crédito\n",
    "def comprar_credito(conta_id, valor):\n",
    "    response = requests.post(f'{base_url}/transacao', json={'conta_id': conta_id, 'valor': valor, 'forma_pagamento':'C'})\n",
    "    print(response.json())\n",
    "\n",
    "# Função para realizar uma transferência via Pix\n",
    "def transferencia_pix(conta_origem, valor):\n",
    "    response = requests.post(f'{base_url}/transacao', json={'conta_id': conta_id, 'valor': valor, 'forma_pagamento':'P'})\n",
    "    print(response.json())\n",
    "\n",
    "# Executando as operações\n",
    "conta_id = 1"
   ]
  },
  {
   "cell_type": "code",
   "execution_count": 59,
   "id": "341a365d-fd5a-488d-a2e0-66a30853530d",
   "metadata": {},
   "outputs": [
    {
     "name": "stdout",
     "output_type": "stream",
     "text": [
      "A conta não existe.\n"
     ]
    }
   ],
   "source": [
    "validar_conta(conta_id)"
   ]
  },
  {
   "cell_type": "code",
   "execution_count": 60,
   "id": "df0d5643-0ce7-4c73-b2f8-7aeb6102d66e",
   "metadata": {},
   "outputs": [
    {
     "name": "stdout",
     "output_type": "stream",
     "text": [
      "{'conta_id': 1, 'saldo': 5200.0}\n"
     ]
    }
   ],
   "source": [
    "criar_conta(conta_id)"
   ]
  },
  {
   "cell_type": "code",
   "execution_count": 61,
   "id": "f4360f16-467e-4f5c-b821-1286a166c398",
   "metadata": {},
   "outputs": [
    {
     "name": "stdout",
     "output_type": "stream",
     "text": [
      "{'conta_id': '1', 'saldo': 5200.0}\n"
     ]
    }
   ],
   "source": [
    "consultar_saldo(conta_id)"
   ]
  },
  {
   "cell_type": "code",
   "execution_count": 62,
   "id": "5ef75549-1509-4c23-a290-715b440b7d0a",
   "metadata": {},
   "outputs": [
    {
     "name": "stdout",
     "output_type": "stream",
     "text": [
      "{'conta_id': '1', 'saldo': 5148.5}\n"
     ]
    }
   ],
   "source": [
    "comprar_debito(conta_id, 50)"
   ]
  },
  {
   "cell_type": "code",
   "execution_count": 63,
   "id": "292e749a-be8f-4a4e-ac9b-b48af2d08e76",
   "metadata": {},
   "outputs": [
    {
     "name": "stdout",
     "output_type": "stream",
     "text": [
      "{'conta_id': '1', 'saldo': 5043.5}\n"
     ]
    }
   ],
   "source": [
    "comprar_credito(conta_id, 100)"
   ]
  },
  {
   "cell_type": "code",
   "execution_count": 66,
   "id": "5cb479a6-ab40-4597-8be2-c4f8bca14b29",
   "metadata": {},
   "outputs": [
    {
     "name": "stdout",
     "output_type": "stream",
     "text": [
      "{'error': 'Saldo insuficiente'}\n"
     ]
    }
   ],
   "source": [
    "transferencia_pix(conta_id, 75.0)"
   ]
  },
  {
   "cell_type": "code",
   "execution_count": 65,
   "id": "33ce45c7-845f-4da3-8bf5-636a8ba747b6",
   "metadata": {},
   "outputs": [
    {
     "name": "stdout",
     "output_type": "stream",
     "text": [
      "{'conta_id': '1', 'saldo': 0.0}\n"
     ]
    }
   ],
   "source": [
    "transferencia_pix(conta_id, 4968.5)"
   ]
  },
  {
   "cell_type": "code",
   "execution_count": null,
   "id": "b0e13f5a-4559-4a1d-b75a-6fba852f02ec",
   "metadata": {},
   "outputs": [],
   "source": []
  }
 ],
 "metadata": {
  "kernelspec": {
   "display_name": "Python 3 (ipykernel)",
   "language": "python",
   "name": "python3"
  },
  "language_info": {
   "codemirror_mode": {
    "name": "ipython",
    "version": 3
   },
   "file_extension": ".py",
   "mimetype": "text/x-python",
   "name": "python",
   "nbconvert_exporter": "python",
   "pygments_lexer": "ipython3",
   "version": "3.10.12"
  }
 },
 "nbformat": 4,
 "nbformat_minor": 5
}
